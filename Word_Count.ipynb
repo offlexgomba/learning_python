{
 "cells": [
  {
   "cell_type": "code",
   "execution_count": 2,
   "id": "7c170a62-7f48-4f2f-b157-1cd457fd2a84",
   "metadata": {},
   "outputs": [
    {
     "name": "stdin",
     "output_type": "stream",
     "text": [
      "Enter a paragraph:  gh hg hg \n"
     ]
    },
    {
     "name": "stdout",
     "output_type": "stream",
     "text": [
      "Number of words are: 3\n"
     ]
    }
   ],
   "source": [
    "paragraph = input(\"Enter a paragraph: \")\n",
    "\n",
    "word_count = 0\n",
    "\n",
    "index=0\n",
    "\n",
    "while index < len(paragraph):\n",
    "    \n",
    "    if paragraph[index] != ' ':\n",
    "        \n",
    "        while index < len(paragraph) and paragraph[index] != ' ':\n",
    "            \n",
    "            index += 1\n",
    "            \n",
    "        word_count += 1\n",
    "    \n",
    "    index += 1\n",
    "\n",
    "\n",
    "print(\"Number of words are:\", word_count)"
   ]
  },
  {
   "cell_type": "code",
   "execution_count": 8,
   "id": "4a01ab6c-bb42-440d-9742-e5760a2e1098",
   "metadata": {},
   "outputs": [
    {
     "name": "stdin",
     "output_type": "stream",
     "text": [
      "Enter a paragraph:    bv bv bv  \n"
     ]
    },
    {
     "name": "stdout",
     "output_type": "stream",
     "text": [
      "Number of words are: 3\n"
     ]
    }
   ],
   "source": [
    "paragraph = input(\"Enter a paragraph: \").strip()\n",
    "count=0\n",
    "for char in paragraph:\n",
    "    if char ==\" \" or char ==\"\\n\":\n",
    "        count+=1\n",
    "print(f\"Number of words are: {count+1}\")        "
   ]
  },
  {
   "cell_type": "code",
   "execution_count": null,
   "id": "cea59390-ed32-4fba-9932-8d251393c5b0",
   "metadata": {},
   "outputs": [],
   "source": []
  }
 ],
 "metadata": {
  "kernelspec": {
   "display_name": "Python 3 (ipykernel)",
   "language": "python",
   "name": "python3"
  },
  "language_info": {
   "codemirror_mode": {
    "name": "ipython",
    "version": 3
   },
   "file_extension": ".py",
   "mimetype": "text/x-python",
   "name": "python",
   "nbconvert_exporter": "python",
   "pygments_lexer": "ipython3",
   "version": "3.13.2"
  }
 },
 "nbformat": 4,
 "nbformat_minor": 5
}
